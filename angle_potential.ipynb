{
 "cells": [
  {
   "cell_type": "code",
   "execution_count": 29,
   "metadata": {},
   "outputs": [],
   "source": [
    "import os\n",
    "import shutil\n",
    "import network\n",
    "import main\n",
    "import numpy as np"
   ]
  },
  {
   "cell_type": "code",
   "execution_count": 22,
   "metadata": {},
   "outputs": [
    {
     "name": "stdout",
     "output_type": "stream",
     "text": [
      "Calc dir: /home/sergey/work/auxetic_optimizer/angle_coeff_test\n",
      "Network file: /home/sergey/work/auxetic_optimizer/angle_coeff_test/original_network.lmp\n"
     ]
    }
   ],
   "source": [
    "calc_dir = \"/home/sergey/work/auxetic_optimizer/angle_coeff_test\"\n",
    "network_file = os.path.join(calc_dir, \"original_network.lmp\")\n",
    "comp_files = [\"/home/sergey/work/auxetic_optimizer/angle_coeff_test/compress.deformation\",\n",
    "              \"/home/sergey/work/auxetic_optimizer/angle_coeff_test/init.mod\",\n",
    "              \"/home/sergey/work/auxetic_optimizer/angle_coeff_test/potential.mod\"]\n",
    "print(f\"Calc dir: {calc_dir}\")\n",
    "print(f\"Network file: {network_file}\")"
   ]
  },
  {
   "cell_type": "code",
   "execution_count": 35,
   "metadata": {},
   "outputs": [
    {
     "name": "stdout",
     "output_type": "stream",
     "text": [
      "[0.   0.02 0.04 0.06 0.08 0.1  0.12 0.14 0.16 0.18 0.2 ]\n",
      "/home/sergey/work/auxetic_optimizer/angle_coeff_test/1\n",
      "0.0\n",
      "/home/sergey/work/auxetic_optimizer/angle_coeff_test/2\n",
      "0.02\n",
      "/home/sergey/work/auxetic_optimizer/angle_coeff_test/3\n",
      "0.04\n",
      "/home/sergey/work/auxetic_optimizer/angle_coeff_test/4\n",
      "0.06\n",
      "/home/sergey/work/auxetic_optimizer/angle_coeff_test/5\n",
      "0.08\n",
      "/home/sergey/work/auxetic_optimizer/angle_coeff_test/6\n",
      "0.1\n",
      "/home/sergey/work/auxetic_optimizer/angle_coeff_test/7\n",
      "0.12\n",
      "/home/sergey/work/auxetic_optimizer/angle_coeff_test/8\n",
      "0.14\n",
      "/home/sergey/work/auxetic_optimizer/angle_coeff_test/9\n",
      "0.16\n",
      "/home/sergey/work/auxetic_optimizer/angle_coeff_test/10\n",
      "0.18\n",
      "/home/sergey/work/auxetic_optimizer/angle_coeff_test/11\n",
      "0.2\n"
     ]
    }
   ],
   "source": [
    "# angle_coeffs = list(range(0, 1, 0.1))\n",
    "angle_coeffs = np.linspace(0.0, 0.2, 11)\n",
    "print(angle_coeffs)\n",
    "subdirs = []\n",
    "for i in range(len(angle_coeffs)):\n",
    "    new_dir = os.path.join(calc_dir, str(i+1))\n",
    "    print(new_dir)\n",
    "    print(angle_coeffs[i])\n",
    "    subdirs.append(new_dir)\n",
    "    os.makedirs(new_dir, exist_ok=True)\n",
    "    for file in comp_files:\n",
    "        shutil.copy(file, new_dir)\n",
    "    \n",
    "    example_network = network.Network.from_data_file(network_file, include_dihedrals=False, include_default_masses=False)\n",
    "    example_network.set_angle_coeff(angle_coeffs[i])\n",
    "    example_network.write_to_file(os.path.join(new_dir, \"network.lmp\"))"
   ]
  },
  {
   "cell_type": "code",
   "execution_count": 36,
   "metadata": {},
   "outputs": [
    {
     "data": {
      "text/plain": [
       "['/home/sergey/work/auxetic_optimizer/angle_coeff_test/1',\n",
       " '/home/sergey/work/auxetic_optimizer/angle_coeff_test/2',\n",
       " '/home/sergey/work/auxetic_optimizer/angle_coeff_test/3',\n",
       " '/home/sergey/work/auxetic_optimizer/angle_coeff_test/4',\n",
       " '/home/sergey/work/auxetic_optimizer/angle_coeff_test/5',\n",
       " '/home/sergey/work/auxetic_optimizer/angle_coeff_test/6',\n",
       " '/home/sergey/work/auxetic_optimizer/angle_coeff_test/7',\n",
       " '/home/sergey/work/auxetic_optimizer/angle_coeff_test/8',\n",
       " '/home/sergey/work/auxetic_optimizer/angle_coeff_test/9',\n",
       " '/home/sergey/work/auxetic_optimizer/angle_coeff_test/10',\n",
       " '/home/sergey/work/auxetic_optimizer/angle_coeff_test/11']"
      ]
     },
     "execution_count": 36,
     "metadata": {},
     "output_type": "execute_result"
    }
   ],
   "source": [
    "subdirs"
   ]
  },
  {
   "cell_type": "code",
   "execution_count": 37,
   "metadata": {},
   "outputs": [
    {
     "name": "stdout",
     "output_type": "stream",
     "text": [
      "/home/sergey/work/auxetic_optimizer/angle_coeff_test/1\n",
      "/home/sergey/work/auxetic_optimizer/angle_coeff_test/2\n",
      "/home/sergey/work/auxetic_optimizer/angle_coeff_test/3\n",
      "/home/sergey/work/auxetic_optimizer/angle_coeff_test/4\n",
      "/home/sergey/work/auxetic_optimizer/angle_coeff_test/5\n",
      "/home/sergey/work/auxetic_optimizer/angle_coeff_test/6\n",
      "/home/sergey/work/auxetic_optimizer/angle_coeff_test/7\n",
      "/home/sergey/work/auxetic_optimizer/angle_coeff_test/8\n",
      "/home/sergey/work/auxetic_optimizer/angle_coeff_test/9\n",
      "/home/sergey/work/auxetic_optimizer/angle_coeff_test/10\n",
      "/home/sergey/work/auxetic_optimizer/angle_coeff_test/11\n"
     ]
    }
   ],
   "source": [
    "for d in subdirs:\n",
    "    print(d)\n",
    "    main.run_lammps(d, \"compress.deformation\")"
   ]
  }
 ],
 "metadata": {
  "kernelspec": {
   "display_name": "gnn",
   "language": "python",
   "name": "python3"
  },
  "language_info": {
   "codemirror_mode": {
    "name": "ipython",
    "version": 3
   },
   "file_extension": ".py",
   "mimetype": "text/x-python",
   "name": "python",
   "nbconvert_exporter": "python",
   "pygments_lexer": "ipython3",
   "version": "3.11.5"
  }
 },
 "nbformat": 4,
 "nbformat_minor": 2
}
