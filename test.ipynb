{
 "cells": [
  {
   "cell_type": "code",
   "execution_count": 2,
   "metadata": {},
   "outputs": [],
   "source": [
    "import main\n",
    "from main import StepResult, ElasticData, CalculationResult\n",
    "import network\n",
    "import matplotlib.pyplot as plt\n",
    "import convert\n",
    "import os\n",
    "\n",
    "opt_dir = \"/home/sergey/work/auxetic_optimizer/pos_test\""
   ]
  },
  {
   "cell_type": "code",
   "execution_count": null,
   "metadata": {},
   "outputs": [],
   "source": [
    "opt_history = main.load_optimization_log(os.path.join(opt_dir, \"optimization_log.pkl\"))"
   ]
  },
  {
   "cell_type": "code",
   "execution_count": null,
   "metadata": {},
   "outputs": [],
   "source": [
    "steps = [i+1 for i in range(len(opt_history))]\n",
    "Bs = [step.dG.bulk_modulus for step in opt_history]\n",
    "Gs = [step.dG.shear_modulus for step in opt_history]\n",
    "Ps = [step.dG.p_ratio for step in opt_history]\n",
    "Zs = [step.network.coordination_number for step in opt_history]"
   ]
  },
  {
   "cell_type": "code",
   "execution_count": null,
   "metadata": {},
   "outputs": [],
   "source": [
    "fig, axs = plt.subplots(nrows=1, ncols=3, figsize=(14, 4))\n",
    "# P ratio graph\n",
    "axs[0].plot(Zs, Ps, label='P')\n",
    "axs[0].set_ylabel(\"Poisson's ratio\")\n",
    "axs[0].set_xlabel(\"Z\")\n",
    "axs[0].set_ylim(-0.15, 0.25)\n",
    "axs[0].legend()\n",
    "# P ratio graph\n",
    "axs[1].plot(steps, Ps, label='P')\n",
    "axs[1].set_xlabel(\"Step\")\n",
    "axs[1].set_ylim(-0.15, 0.25)\n",
    "axs[1].legend()\n",
    "# Moduli graph\n",
    "axs[2].plot(Zs, Bs, label='B')\n",
    "axs[2].plot(Zs, Gs, label='G')\n",
    "axs[2].set_ylabel(\"Moduli\")\n",
    "axs[2].set_xlabel(\"Z\")\n",
    "axs[2].legend()\n",
    "\n",
    "plt.show()\n"
   ]
  },
  {
   "cell_type": "code",
   "execution_count": 141,
   "metadata": {},
   "outputs": [
    {
     "name": "stdout",
     "output_type": "stream",
     "text": [
      "Took 0.0039 secs\n"
     ]
    }
   ],
   "source": [
    "import time\n",
    "\n",
    "start = time.perf_counter()\n",
    "example = network.Network.from_data_file(os.path.join(opt_dir, \"original_network.lmp\"), include_angles=False, include_dihedrals=False)\n",
    "# example.write_to_file(os.path.join(opt_dir, \"new.lmp\"))\n",
    "end = time.perf_counter()\n",
    "print(f\"Took {end-start:.4f} secs\")"
   ]
  }
 ],
 "metadata": {
  "kernelspec": {
   "display_name": "gnn",
   "language": "python",
   "name": "python3"
  },
  "language_info": {
   "codemirror_mode": {
    "name": "ipython",
    "version": 3
   },
   "file_extension": ".py",
   "mimetype": "text/x-python",
   "name": "python",
   "nbconvert_exporter": "python",
   "pygments_lexer": "ipython3",
   "version": "3.11.5"
  }
 },
 "nbformat": 4,
 "nbformat_minor": 2
}
