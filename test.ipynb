{
 "cells": [
  {
   "cell_type": "code",
   "execution_count": 1,
   "metadata": {},
   "outputs": [],
   "source": [
    "import network"
   ]
  },
  {
   "cell_type": "code",
   "execution_count": 6,
   "metadata": {},
   "outputs": [
    {
     "data": {
      "text/plain": [
       "5.79"
      ]
     },
     "execution_count": 6,
     "metadata": {},
     "output_type": "execute_result"
    }
   ],
   "source": [
    "example = network.Network.from_atoms(\"/home/sergey/work/auxetic_optimizer/dense_network/coord.dat.1\")\n",
    "example.write_to_file(\"/home/sergey/work/auxetic_optimizer/dense_network/network.lmp\")\n",
    "example.coordination_number"
   ]
  },
  {
   "cell_type": "code",
   "execution_count": 9,
   "metadata": {},
   "outputs": [
    {
     "name": "stdout",
     "output_type": "stream",
     "text": [
      "1.2098584153713294\n",
      "22.153978\n",
      "22.153978\n"
     ]
    }
   ],
   "source": [
    "example = network.Network.from_data_file(\"/home/sergey/work/auxetic_optimizer/dense_network/dense_network.lmp\", include_angles=False, include_dihedrals=False)\n",
    "\n",
    "avg = sum([bond.length for bond in example.bonds])/len(example.bonds)\n",
    "print(avg)\n",
    "print(example.box.x)\n",
    "print(example.box.y)"
   ]
  }
 ],
 "metadata": {
  "kernelspec": {
   "display_name": "py311",
   "language": "python",
   "name": "python3"
  },
  "language_info": {
   "codemirror_mode": {
    "name": "ipython",
    "version": 3
   },
   "file_extension": ".py",
   "mimetype": "text/x-python",
   "name": "python",
   "nbconvert_exporter": "python",
   "pygments_lexer": "ipython3",
   "version": "3.11.4"
  }
 },
 "nbformat": 4,
 "nbformat_minor": 2
}
